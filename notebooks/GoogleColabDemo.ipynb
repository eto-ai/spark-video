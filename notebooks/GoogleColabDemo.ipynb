{
 "cells": [
  {
   "cell_type": "markdown",
   "id": "119212f3-f72a-475f-9e52-5c7a308ada63",
   "metadata": {},
   "source": [
    "[![Open In Colab](https://colab.research.google.com/assets/colab-badge.svg)](https://colab.research.google.com/github/eto-ai/spark-video/blob/main/notebooks/GoogleColabDemo.ipynb)"
   ]
  },
  {
   "cell_type": "markdown",
   "id": "e9e150c7-4313-4bd2-ad83-148a702a686b",
   "metadata": {},
   "source": [
    "# Demo Notebook for spark-video on Google Colab"
   ]
  },
  {
   "cell_type": "markdown",
   "id": "a56223d4-bf5a-49e7-b3ab-43517b046caf",
   "metadata": {},
   "source": [
    "## Initialization"
   ]
  },
  {
   "cell_type": "code",
   "execution_count": null,
   "id": "8493b25d-e2d8-481c-b07a-92b47a2c162e",
   "metadata": {},
   "outputs": [],
   "source": [
    "! pip install rikai"
   ]
  },
  {
   "cell_type": "code",
   "execution_count": null,
   "id": "cbd0266c-fe97-41ba-95ca-a3b4d966682c",
   "metadata": {},
   "outputs": [],
   "source": [
    "! wget https://github.com/eto-ai/spark-video/raw/main/video/test/resources/big_buck_bunny_short.mp4\n",
    "! wget -O /usr/local/lib/python3.7/dist-packages/pyspark/jars/ffmpeg-4.4-1.5.6-linux-x86_64.jar https://repo1.maven.org/maven2/org/bytedeco/ffmpeg/4.4-1.5.6/ffmpeg-4.4-1.5.6-linux-x86_64.jar\n",
    "! wget -O /usr/local/lib/python3.7/dist-packages/pyspark/jars/javacpp-1.5.6-linux-x86_64.jar https://repo1.maven.org/maven2/org/bytedeco/javacpp/1.5.6/javacpp-1.5.6-linux-x86_64.jar\n",
    "! wget -O /usr/local/lib/python3.7/dist-packages/pyspark/jars/spark-video-assembly-0.0.4.jar https://github.com/eto-ai/spark-video/releases/download/v0.0.4/spark-video-assembly_2.12-0.0.4.jar"
   ]
  },
  {
   "cell_type": "code",
   "execution_count": null,
   "id": "748a5c49-9278-4be0-8a53-91de191a04f5",
   "metadata": {},
   "outputs": [],
   "source": [
    "from rikai.spark.utils import init_spark_session\n",
    "from rikai.spark.functions import init\n",
    "\n",
    "spark = init_spark_session()\n",
    "init(spark)"
   ]
  },
  {
   "cell_type": "markdown",
   "id": "ad6c9ebe-1556-4638-b0e4-39ed9259c165",
   "metadata": {},
   "source": [
    "## Demos"
   ]
  },
  {
   "cell_type": "code",
   "execution_count": null,
   "id": "07311a4f-28d1-4a2b-9269-46a397658b96",
   "metadata": {},
   "outputs": [],
   "source": [
    "spark.sql(\"\"\"\n",
    "select count(*) from video.`/content/big_buck_bunny_short.mp4`\n",
    "\"\"\").show()"
   ]
  },
  {
   "cell_type": "code",
   "execution_count": null,
   "id": "85cb3af8-08a0-46c5-a3ad-1557c3d330b4",
   "metadata": {},
   "outputs": [],
   "source": [
    "spark.sql(\"\"\"\n",
    "create or replace temporary view test_view\n",
    "using video\n",
    "options (\n",
    "  path \"/content/big_buck_bunny_short.mp4\",\n",
    "  frameStepSize 2\n",
    ")\n",
    "\"\"\")\n",
    "\n",
    "spark.sql(\"\"\"\n",
    "select video_uri, frame_id, date_format(ts, 'mm:ss.SSS') as ts, to_image(image_data)\n",
    "from test_view\n",
    "where frame_id > 10 and frame_id <= 16\n",
    "\"\"\").show()"
   ]
  }
 ],
 "metadata": {
  "kernelspec": {
   "display_name": "Python 3 (ipykernel)",
   "language": "python",
   "name": "python3"
  },
  "language_info": {
   "codemirror_mode": {
    "name": "ipython",
    "version": 3
   },
   "file_extension": ".py",
   "mimetype": "text/x-python",
   "name": "python",
   "nbconvert_exporter": "python",
   "pygments_lexer": "ipython3",
   "version": "3.8.10"
  }
 },
 "nbformat": 4,
 "nbformat_minor": 5
}
